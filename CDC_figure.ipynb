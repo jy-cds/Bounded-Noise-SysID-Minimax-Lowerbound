{
 "cells": [
  {
   "cell_type": "code",
   "execution_count": 1,
   "metadata": {},
   "outputs": [],
   "source": [
    "\n",
    "import numpy as np\n",
    "import matplotlib.pyplot as plt\n",
    "import pickle\n",
    "from glob import glob"
   ]
  },
  {
   "cell_type": "code",
   "execution_count": 2,
   "metadata": {},
   "outputs": [],
   "source": [
    "title_font = 16\n",
    "label_font = 16\n",
    "legend_font = 7"
   ]
  },
  {
   "cell_type": "markdown",
   "metadata": {},
   "source": []
  },
  {
   "cell_type": "code",
   "execution_count": 5,
   "metadata": {},
   "outputs": [
    {
     "data": {
      "image/png": "[encoded data removed]",
      "text/plain": [
       "<Figure size 288x201.6 with 1 Axes>"
      ]
     },
     "metadata": {
      "needs_background": "light"
     },
     "output_type": "display_data"
    }
   ],
   "source": [
    "folder_name = 'CDC25' \n",
    "disturbance = 'uniform'\n",
    "W = 2\n",
    "start = 10\n",
    "d = 16\n",
    "plt.figure()\n",
    "plt.rcParams[\"axes.prop_cycle\"] = plt.cycler(\"color\", plt.cm.tab10.colors)\n",
    "plt.rcParams[\"font.family\"] = \"Times New Roman\"\n",
    "\n",
    "paths = list(filter(\n",
    "    lambda x: 'SME' not in x,\n",
    "    glob(folder_name + '/*.pkl'))) # \n",
    "\n",
    "\n",
    "###################### OLS ######################\n",
    "OLS = []\n",
    "for i, path in enumerate(paths):\n",
    "    with open(path, 'rb') as f:\n",
    "        data = pickle.load(f)\n",
    "    arr = np.array(data['OLS'])\n",
    "    arr[arr == None] = 0\n",
    "    arr = arr.astype(np.float64) \n",
    "    # arr = arr.astype(type(0))\n",
    "    OLS.append(arr[arr != 0])\n",
    "\n",
    "OLS_mean = np.mean(OLS, axis=0)\n",
    "OLS_std = np.std(OLS, axis=0)\n",
    "t3 = np.nonzero(arr)[0]\n",
    "\n",
    "plt.semilogy(t3[start+d:], OLS_mean[start+d:], ':', label='OLS')\n",
    "plt.fill_between(t3[start+d:], OLS_mean[start+d:] + OLS_std[start+d:], OLS_mean[start+d:] - OLS_std[start+d:],alpha=0.4)\n",
    "\n",
    "\n",
    "# ###################### SME ######################\n",
    "SME = []\n",
    "for i, path in enumerate(paths):\n",
    "    with open(path, 'rb') as f:\n",
    "        data = pickle.load(f)\n",
    "    arr = np.array(data['SME'])\n",
    "    arr[arr == None] = 0\n",
    "    arr = arr.astype(np.float64) \n",
    "    # arr = arr.astype(type(0))\n",
    "    SME.append(arr[arr != 0])\n",
    "\n",
    "\n",
    "SME_mean = np.mean(SME, axis=0)\n",
    "SME_std = np.std(SME, axis=0)\n",
    "t1 = np.nonzero(arr)[0]\n",
    "\n",
    "plt.semilogy(t1[start:], SME_mean[start:],  label='SME Diameter')\n",
    "plt.fill_between(t1[start:], SME_mean[start:] + SME_std[start:], SME_mean[start:] - SME_std[start:],alpha=0.4)\n",
    "\n",
    "\n",
    "# # ###################### OLS-SME ######################\n",
    "PROJ = []\n",
    "for i, path in enumerate(paths):\n",
    "    with open(path, 'rb') as f:\n",
    "        data = pickle.load(f)\n",
    "    arr = np.array(data['PROJ'])\n",
    "    arr[arr == None] = 0\n",
    "    arr = arr.astype(np.float64) \n",
    "    # arr = arr.astype(type(0))\n",
    "    PROJ.append(arr[arr != 0])\n",
    "\n",
    "\n",
    "PROJ_mean = np.mean(PROJ, axis=0)\n",
    "PROJ_std = np.std(PROJ, axis=0)\n",
    "t5 = np.nonzero(arr)[0]\n",
    "\n",
    "plt.semilogy(t5[start:], PROJ_mean[start:], '--', label='OLS-SME')\n",
    "plt.fill_between(t5[start:], PROJ_mean[start:] + PROJ_std[start:], PROJ_mean[start:] - PROJ_std[start:],alpha=0.4)\n",
    "\n",
    "\n",
    "# ###################### CLS ######################\n",
    "CLS = []\n",
    "for i, path in enumerate(paths):\n",
    "    with open(path, 'rb') as f:\n",
    "        data = pickle.load(f)\n",
    "        arr = np.array(data['CLS'])\n",
    "        arr[arr == None] = 0\n",
    "        arr = arr.astype(np.float64) \n",
    "        # arr = arr.astype(type(0))\n",
    "        CLS.append(arr[arr != 0])\n",
    "\n",
    "\n",
    "CLS_mean = np.mean(CLS, axis=0)\n",
    "CLS_std = np.std(CLS, axis=0)\n",
    "t4 = np.nonzero(arr)[0]\n",
    "\n",
    "plt.semilogy(t4[start:], CLS_mean[start:], '-.', label='CLS')\n",
    "plt.fill_between(t4[start:], CLS_mean[start:] + CLS_std[start:], CLS_mean[start:] - CLS_std[start:],alpha=0.4)\n",
    "\n",
    "\n",
    "# ###################### Lower bound ######################\n",
    "paths = list(filter(\n",
    "    lambda x: 'SME' not in x,\n",
    "    glob(folder_name + '/error*T=1500*.pkl'))) # \n",
    "SME = []\n",
    "for i, path in enumerate(paths):\n",
    "    with open(path, 'rb') as f:\n",
    "        data = pickle.load(f)\n",
    "LB = data['LB']\n",
    "t2 = np.nonzero(LB)[0]\n",
    "plt.semilogy(t2[start+d:], LB[start+d:], label='Lower Bound')\n",
    "\n",
    "\n",
    "\n",
    "\n",
    "plt.rcParams['figure.figsize'] = [4, 2.8]\n",
    "plt.legend(fontsize=7, loc='upper right')\n",
    "plt.xlim([50,1450])\n",
    "plt.xlabel('T')\n",
    "plt.ylabel('Estimation Error')\n",
    "plt.tight_layout()\n",
    "\n",
    "plt.savefig(\"CDC_plots/uniform.pdf\", format=\"pdf\", bbox_inches=\"tight\")"
   ]
  },
  {
   "cell_type": "markdown",
   "metadata": {},
   "source": []
  }
 ],
 "metadata": {
  "kernelspec": {
   "display_name": "apisel",
   "language": "python",
   "name": "python3"
  },
  "language_info": {
   "codemirror_mode": {
    "name": "ipython",
    "version": 3
   },
   "file_extension": ".py",
   "mimetype": "text/x-python",
   "name": "python",
   "nbconvert_exporter": "python",
   "pygments_lexer": "ipython3",
   "version": "3.7.11"
  },
  "orig_nbformat": 4
 },
 "nbformat": 4,
 "nbformat_minor": 2
}
